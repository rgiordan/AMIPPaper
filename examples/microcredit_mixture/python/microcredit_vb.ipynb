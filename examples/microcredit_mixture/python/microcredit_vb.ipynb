{
 "cells": [
  {
   "cell_type": "markdown",
   "metadata": {},
   "source": [
    "Before running, follow the installation instructions in the `AdversarialInfluenceWorkbench/examples/microcredit_mixture/README.md` file."
   ]
  },
  {
   "cell_type": "code",
   "execution_count": 1,
   "metadata": {},
   "outputs": [],
   "source": [
    "import paragami\n",
    "import vittles\n",
    "import autograd\n",
    "from autograd import numpy as np\n",
    "from autograd import scipy as sp\n",
    "import matplotlib.pyplot as plt\n",
    "%matplotlib inline\n",
    "import pandas as pd\n",
    "\n",
    "import time\n",
    "import scipy as osp"
   ]
  },
  {
   "cell_type": "code",
   "execution_count": 2,
   "metadata": {},
   "outputs": [],
   "source": [
    "import microcredit_mixture_rgiordandev\n",
    "from microcredit_mixture_rgiordandev import microcredit_vb_lib as mm_lib"
   ]
  },
  {
   "cell_type": "code",
   "execution_count": 3,
   "metadata": {},
   "outputs": [],
   "source": [
    "from microcredit_mixture_rgiordandev import \\\n",
    "    get_log_prob, get_param_pattern, get_log_prob_with_jacobian"
   ]
  },
  {
   "cell_type": "code",
   "execution_count": 4,
   "metadata": {},
   "outputs": [],
   "source": [
    "np.random.seed(42)"
   ]
  },
  {
   "cell_type": "markdown",
   "metadata": {},
   "source": [
    "## Load the data"
   ]
  },
  {
   "cell_type": "code",
   "execution_count": 5,
   "metadata": {},
   "outputs": [
    {
     "name": "stdout",
     "output_type": "stream",
     "text": [
      "       site      profit  treatment  cat\n",
      "0         1    0.000000          0    2\n",
      "1         1  513.246492          1    3\n",
      "2         1    0.000000          1    2\n",
      "3         1    0.000000          0    2\n",
      "4         1    0.000000          0    2\n",
      "...     ...         ...        ...  ...\n",
      "35298     7  -10.637987          0    1\n",
      "35299     7   87.503514          0    3\n",
      "35300     7   -5.736498          0    1\n",
      "35301     7    0.000000          0    2\n",
      "35302     7   28.722566          0    3\n",
      "\n",
      "[35303 rows x 4 columns]\n"
     ]
    }
   ],
   "source": [
    "raw_data = pd.read_csv('../R/data/microcredit_project_data_cleaned.csv') \n",
    "print(raw_data)\n",
    "data = dict()\n",
    "\n",
    "use_smuber = False\n",
    "\n",
    "data['site'] = raw_data[\"site\"].to_numpy().astype('int')\n",
    "data['profit'] = raw_data[\"profit\"].to_numpy()\n",
    "data['treatment'] = raw_data[\"treatment\"].to_numpy().astype('int')\n",
    "data['cat'] = raw_data[\"cat\"].to_numpy().astype('int')\n",
    "\n",
    "# If use_smuber is False or unset, then use the log normal loss.\n",
    "data['use_smuber'] = use_smuber"
   ]
  },
  {
   "cell_type": "markdown",
   "metadata": {},
   "source": [
    "## Define priors and parameter structures\n",
    "Note that I use the same parameterization as the model `tailored-hierarchical-pdf-log-normal.stan`, without the scaling."
   ]
  },
  {
   "cell_type": "code",
   "execution_count": 6,
   "metadata": {},
   "outputs": [
    {
     "data": {
      "text/plain": [
       "array([  0,   5,   0,   2,   0,   1,   0, 100,   0, 100,   0,   2,   0,\n",
       "         2,   0, 100,   0,   2,   0, 100,   0,   2])"
      ]
     },
     "execution_count": 6,
     "metadata": {},
     "output_type": "execute_result"
    }
   ],
   "source": [
    "prior_param_pattern = mm_lib.get_prior_param_pattern()\n",
    "prior_params = mm_lib.get_default_prior_params()\n",
    "prior_param_pattern.flatten(prior_params, free=False)"
   ]
  },
  {
   "cell_type": "code",
   "execution_count": 7,
   "metadata": {},
   "outputs": [],
   "source": [
    "assert np.min(data['site']) == 1\n",
    "num_sites = int(np.max(data['site'])) # K in stan.  Convert to int to allow json serialization.\n",
    "\n",
    "param_pattern = get_param_pattern(num_sites)"
   ]
  },
  {
   "cell_type": "code",
   "execution_count": 8,
   "metadata": {},
   "outputs": [],
   "source": [
    "params_rand = param_pattern.random()"
   ]
  },
  {
   "cell_type": "code",
   "execution_count": 9,
   "metadata": {},
   "outputs": [
    {
     "name": "stdout",
     "output_type": "stream",
     "text": [
      "-76783.3276739646\n",
      "-76777.87533847814\n"
     ]
    }
   ],
   "source": [
    "# Test that these work\n",
    "print(get_log_prob(params_rand, data, prior_params))\n",
    "print(get_log_prob_with_jacobian(params_rand, data, prior_params, param_pattern))"
   ]
  },
  {
   "cell_type": "markdown",
   "metadata": {},
   "source": [
    "## Define the ADVI parameters and objective.\n",
    "\n",
    "I fit a non-standard version of ADVI where I fix a certain `num_draws` number of multivariate normal draws in advance.\n",
    "\n",
    "Ideally, check afterwards that `num_draws` is large enough that the frequentist variance (due to the Monte Carlo integration) of the optimum  is small relative to the Bayesian posterior."
   ]
  },
  {
   "cell_type": "code",
   "execution_count": 10,
   "metadata": {},
   "outputs": [
    {
     "data": {
      "text/plain": [
       "148220318.63768724"
      ]
     },
     "execution_count": 10,
     "metadata": {},
     "output_type": "execute_result"
    }
   ],
   "source": [
    "num_draws = 30\n",
    "\n",
    "advi_param_pattern = mm_lib.get_advi_pattern(param_pattern)\n",
    "base_draws = mm_lib.get_base_draws(num_draws, param_pattern)\n",
    "\n",
    "advi_params = advi_param_pattern.random()\n",
    "mm_lib.get_advi_loss(advi_params, base_draws, data, prior_params, param_pattern)"
   ]
  },
  {
   "cell_type": "code",
   "execution_count": 11,
   "metadata": {},
   "outputs": [],
   "source": [
    "base_draws = mm_lib.get_base_draws(num_draws, param_pattern)\n",
    "objective = mm_lib.get_advi_objective(\n",
    "    base_draws, data, prior_params, advi_param_pattern, param_pattern)\n",
    "\n",
    "advi_params_rand = advi_param_pattern.random()\n",
    "advi_params_rand_free = advi_param_pattern.flatten(advi_params_rand)"
   ]
  },
  {
   "cell_type": "markdown",
   "metadata": {},
   "source": [
    "## Run an initial fit."
   ]
  },
  {
   "cell_type": "code",
   "execution_count": 12,
   "metadata": {},
   "outputs": [
    {
     "name": "stdout",
     "output_type": "stream",
     "text": [
      "Iter 0: f = 237889.26613274\n",
      "Iter 1: f = 144444.13324077\n",
      "Iter 2: f = 93334.88510482\n",
      "Iter 3: f = 66735.36381635\n",
      "Iter 4: f = 57913.86865819\n",
      "Iter 5: f = 52161.76092000\n",
      "Iter 6: f = 46783.53900470\n",
      "Iter 7: f = 200683.06269075\n",
      "Iter 8: f = 43657.42335466\n",
      "Iter 9: f = 51040.59121014\n",
      "Iter 10: f = 42468.64990199\n",
      "Iter 11: f = 41092.10299056\n",
      "Iter 12: f = 40714.07439810\n",
      "Iter 13: f = 39124.39338311\n",
      "Iter 14: f = 38587.41098704\n",
      "Iter 15: f = 38106.23340968\n",
      "Iter 16: f = 37749.56298242\n",
      "Iter 17: f = 37490.78034736\n",
      "Iter 18: f = 37341.10511961\n",
      "Iter 19: f = 37072.16886996\n",
      "Iter 20: f = 36917.04528396\n",
      "Iter 21: f = 36691.81997166\n",
      "Iter 22: f = 36640.72417442\n",
      "Iter 23: f = 36541.10013801\n",
      "Iter 24: f = 36452.59844152\n",
      "Iter 25: f = 36385.86155779\n",
      "Iter 26: f = 36290.12310610\n",
      "Iter 27: f = 36169.81550724\n",
      "Iter 28: f = 36096.21174713\n",
      "Iter 29: f = 36015.64767551\n",
      "Iter 30: f = 35916.88882083\n",
      "Iter 31: f = 35891.49756736\n",
      "Iter 32: f = 35826.57061853\n",
      "Iter 33: f = 35821.80349081\n",
      "Iter 34: f = 36134.89849299\n",
      "Iter 35: f = 35805.70404262\n",
      "Iter 36: f = 35800.03894854\n",
      "Iter 37: f = 35797.90926496\n",
      "Iter 38: f = 35795.16297094\n",
      "Iter 39: f = 35792.38231002\n",
      "Iter 40: f = 35783.24611112\n",
      "Iter 41: f = 35778.65135159\n",
      "Iter 42: f = 35789.80369194\n",
      "Iter 43: f = 35774.00506930\n",
      "Iter 44: f = 35768.03550944\n",
      "Iter 45: f = 35762.95269022\n",
      "Iter 46: f = 35757.68453029\n",
      "Iter 47: f = 35753.76750322\n",
      "Iter 48: f = 35752.44393651\n",
      "Iter 49: f = 35749.25753340\n",
      "Iter 50: f = 35747.23681284\n",
      "Iter 51: f = 35746.39151075\n",
      "Iter 52: f = 35743.88044779\n",
      "Iter 53: f = 35743.17879730\n",
      "Iter 54: f = 35741.15351486\n",
      "Iter 55: f = 35739.77965582\n",
      "Iter 56: f = 35739.02971401\n",
      "Iter 57: f = 35738.57230308\n",
      "Iter 58: f = 35738.56680913\n",
      "Iter 59: f = 35738.48991490\n",
      "Iter 60: f = 35738.46083390\n",
      "Iter 61: f = 35738.45202229\n",
      "Iter 62: f = 35738.45050065\n",
      "Iter 63: f = 35738.44997480\n",
      "Iter 64: f = 35738.44992994\n",
      "Iter 65: f = 35738.44992764\n",
      "Iter 66: f = 35738.44992764\n",
      "1494.5550429821014\n"
     ]
    }
   ],
   "source": [
    "init_advi_params = advi_param_pattern.empty(valid=True)\n",
    "init_advi_params['mean'][:] = 0.0\n",
    "init_advi_params['log_sd'][:] = -1\n",
    "\n",
    "opt_init_time = time.time()\n",
    "objective.reset()\n",
    "objective.set_log_every(1)\n",
    "opt_result = osp.optimize.minimize(\n",
    "    method='trust-ncg',\n",
    "    x0=advi_param_pattern.flatten(init_advi_params, free=True),\n",
    "    fun=objective.f,\n",
    "    jac=objective.grad,\n",
    "    hessp=objective.hessian_vector_product,\n",
    "    options={'maxiter': 100})\n",
    "opt_init_time = time.time() - opt_init_time\n",
    "print(opt_init_time)"
   ]
  },
  {
   "cell_type": "markdown",
   "metadata": {},
   "source": [
    "## Preconditioned optimization\n",
    "\n",
    "Evaluate the Hessian at the initial fit, check for positive definiteness, and then re-run with preconditioning to make sure we're at a good optimum."
   ]
  },
  {
   "cell_type": "code",
   "execution_count": 13,
   "metadata": {},
   "outputs": [],
   "source": [
    "hess_pc = objective.hessian(opt_result.x)"
   ]
  },
  {
   "cell_type": "code",
   "execution_count": 14,
   "metadata": {},
   "outputs": [
    {
     "data": {
      "text/plain": [
       "(0.3244618046610828, 20214.047484817587)"
      ]
     },
     "execution_count": 14,
     "metadata": {},
     "output_type": "execute_result"
    }
   ],
   "source": [
    "evs = np.linalg.eigvals(hess_pc)\n",
    "np.min(evs), np.max(evs)"
   ]
  },
  {
   "cell_type": "code",
   "execution_count": 15,
   "metadata": {},
   "outputs": [],
   "source": [
    "get_log_loss_free = paragami.FlattenFunctionInput(\n",
    "    lambda advi_params: \\\n",
    "        mm_lib.get_advi_loss(advi_params, base_draws, data,\n",
    "                             prior_params, param_pattern, weights=None),\n",
    "    patterns=advi_param_pattern,\n",
    "    free=True)\n",
    "\n",
    "advi_loss_precond = paragami.PreconditionedFunction(get_log_loss_free)\n",
    "advi_loss_precond.set_preconditioner_with_hessian(hessian=hess_pc)\n",
    "objective_precond = paragami.OptimizationObjective(advi_loss_precond)\n",
    "init_x = advi_loss_precond.precondition(opt_result.x)"
   ]
  },
  {
   "cell_type": "code",
   "execution_count": 16,
   "metadata": {},
   "outputs": [
    {
     "name": "stdout",
     "output_type": "stream",
     "text": [
      "Iter 0: f = 35738.44992764\n",
      "Optimization terminated successfully.\n",
      "1.163205623626709\n"
     ]
    }
   ],
   "source": [
    "opt_pc_time = time.time()\n",
    "objective_precond.reset()\n",
    "objective_precond.set_log_every(1)\n",
    "opt_result = osp.optimize.minimize(\n",
    "    method='trust-ncg',\n",
    "    x0=init_x,\n",
    "    fun=objective_precond.f,\n",
    "    jac=objective_precond.grad,\n",
    "    hessp=objective_precond.hessian_vector_product,\n",
    "    options={'maxiter': 500})\n",
    "print(opt_result.message)\n",
    "opt_pc_time = time.time() - opt_pc_time\n",
    "print(opt_pc_time)"
   ]
  },
  {
   "cell_type": "code",
   "execution_count": 17,
   "metadata": {},
   "outputs": [],
   "source": [
    "# The total optimization time is the sum of both.\n",
    "opt_time = opt_init_time + opt_pc_time"
   ]
  },
  {
   "cell_type": "code",
   "execution_count": 18,
   "metadata": {},
   "outputs": [
    {
     "name": "stdout",
     "output_type": "stream",
     "text": [
      "24.928637476762137\n",
      "Optimization terminated successfully.\n"
     ]
    }
   ],
   "source": [
    "print(opt_time / 60)\n",
    "print(opt_result.message)"
   ]
  },
  {
   "cell_type": "markdown",
   "metadata": {},
   "source": [
    "## Inspect and save results."
   ]
  },
  {
   "cell_type": "code",
   "execution_count": 19,
   "metadata": {},
   "outputs": [],
   "source": [
    "advi_params = advi_param_pattern.fold(advi_loss_precond.unprecondition(opt_result.x))\n",
    "advi_params_free = advi_param_pattern.flatten(advi_params, free=True)\n",
    "params_opt = param_pattern.fold(advi_params['mean'])\n",
    "#print(params_opt)"
   ]
  },
  {
   "cell_type": "code",
   "execution_count": 20,
   "metadata": {},
   "outputs": [],
   "source": [
    "hess_time = time.time()\n",
    "hess0 = objective.hessian(advi_params_free)\n",
    "hess_time = time.time() - hess_time\n",
    "evs = np.linalg.eigvals(hess0)"
   ]
  },
  {
   "cell_type": "code",
   "execution_count": 21,
   "metadata": {},
   "outputs": [
    {
     "name": "stdout",
     "output_type": "stream",
     "text": [
      "25.513100147247314\n",
      "20214.047484814568 0.3244618046601927 62300.23748399182\n"
     ]
    }
   ],
   "source": [
    "print(hess_time)\n",
    "print(np.max(evs), np.min(evs), np.max(evs) / np.min(evs))"
   ]
  },
  {
   "cell_type": "code",
   "execution_count": 22,
   "metadata": {},
   "outputs": [
    {
     "name": "stdout",
     "output_type": "stream",
     "text": [
      "2.773361238178103e-06\n",
      "2.1844107234763186e-06\n"
     ]
    }
   ],
   "source": [
    "grad0 = objective.grad(advi_params_free)\n",
    "print(np.linalg.norm(grad0))\n",
    "print(np.linalg.norm(np.linalg.solve(hess0, grad0)))"
   ]
  },
  {
   "cell_type": "code",
   "execution_count": 56,
   "metadata": {},
   "outputs": [],
   "source": [
    "save_dict = {}\n",
    "save_dict['opt_time'] = opt_time\n",
    "save_dict['hess_time'] = hess_time\n",
    "save_dict['hess0'] = hess0\n",
    "save_dict['advi_params_free'] = advi_param_pattern.flatten(advi_params, free=True)\n",
    "save_dict['params_free'] = param_pattern.flatten(params_opt, free=True)\n",
    "save_dict['advi_param_pattern_json'] = advi_param_pattern.to_json()\n",
    "save_dict['param_pattern_json'] = param_pattern.to_json()\n",
    "save_dict['base_draws'] = base_draws\n",
    "save_dict['use_smuber'] = data['use_smuber']\n",
    "#save_dict['optimization_log'] = objective_precond.optimization_log\n",
    "save_dict['prior_param_pattern_json'] = prior_param_pattern.to_json()\n",
    "save_dict['prior_params_flat'] = prior_param_pattern.flatten(prior_params, free=False)\n"
   ]
  },
  {
   "cell_type": "code",
   "execution_count": 57,
   "metadata": {},
   "outputs": [
    {
     "name": "stdout",
     "output_type": "stream",
     "text": [
      "Saving to output/microcredit_project_advi_30draws_smuberFalse.npz\n"
     ]
    }
   ],
   "source": [
    "out_filename = 'output/microcredit_project_advi_{}draws_smuber{}.npz'.format(\n",
    "    base_draws.shape[1], data['use_smuber'])\n",
    "print('Saving to {}'.format(out_filename))\n",
    "\n",
    "np.savez_compressed(**save_dict, file=out_filename)"
   ]
  }
 ],
 "metadata": {
  "kernelspec": {
   "display_name": "amip-paper-2023",
   "language": "python",
   "name": "amip-paper-2023"
  },
  "language_info": {
   "codemirror_mode": {
    "name": "ipython",
    "version": 3
   },
   "file_extension": ".py",
   "mimetype": "text/x-python",
   "name": "python",
   "nbconvert_exporter": "python",
   "pygments_lexer": "ipython3",
   "version": "3.11.6"
  }
 },
 "nbformat": 4,
 "nbformat_minor": 4
}
