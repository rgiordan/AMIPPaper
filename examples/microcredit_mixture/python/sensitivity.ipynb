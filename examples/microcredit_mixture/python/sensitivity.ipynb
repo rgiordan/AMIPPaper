{
 "cells": [
  {
   "cell_type": "code",
   "execution_count": 1,
   "metadata": {},
   "outputs": [],
   "source": [
    "import paragami\n",
    "import vittles\n",
    "import autograd\n",
    "from autograd import numpy as np\n",
    "from autograd import scipy as sp\n",
    "import matplotlib.pyplot as plt\n",
    "%matplotlib inline\n",
    "import pandas as pd\n",
    "\n",
    "from copy import deepcopy\n",
    "import time\n",
    "import scipy as osp\n",
    "\n",
    "import microcredit_mixture_rgiordandev\n",
    "from microcredit_mixture_rgiordandev import microcredit_vb_lib as mm_lib"
   ]
  },
  {
   "cell_type": "code",
   "execution_count": 5,
   "metadata": {},
   "outputs": [
    {
     "ename": "BadZipFile",
     "evalue": "Bad magic number for file header",
     "output_type": "error",
     "traceback": [
      "\u001b[0;31m---------------------------------------------------------------------------\u001b[0m",
      "\u001b[0;31mBadZipFile\u001b[0m                                Traceback (most recent call last)",
      "Cell \u001b[0;32mIn[5], line 17\u001b[0m\n\u001b[1;32m     15\u001b[0m mean_params \u001b[38;5;241m=\u001b[39m param_pattern\u001b[38;5;241m.\u001b[39mfold(advi_dict[\u001b[38;5;124m'\u001b[39m\u001b[38;5;124mparams_free\u001b[39m\u001b[38;5;124m'\u001b[39m], free\u001b[38;5;241m=\u001b[39m\u001b[38;5;28;01mTrue\u001b[39;00m)\n\u001b[1;32m     16\u001b[0m base_draws \u001b[38;5;241m=\u001b[39m advi_dict[\u001b[38;5;124m'\u001b[39m\u001b[38;5;124mbase_draws\u001b[39m\u001b[38;5;124m'\u001b[39m]\n\u001b[0;32m---> 17\u001b[0m prior_pattern \u001b[38;5;241m=\u001b[39m paragami\u001b[38;5;241m.\u001b[39mget_pattern_from_json(\u001b[38;5;28mstr\u001b[39m(\u001b[43madvi_dict\u001b[49m\u001b[43m[\u001b[49m\u001b[38;5;124;43m'\u001b[39;49m\u001b[38;5;124;43mprior_param_pattern_json\u001b[39;49m\u001b[38;5;124;43m'\u001b[39;49m\u001b[43m]\u001b[49m))\n\u001b[1;32m     18\u001b[0m prior_params \u001b[38;5;241m=\u001b[39m prior_pattern\u001b[38;5;241m.\u001b[39mfold(advi_dict[\u001b[38;5;124m'\u001b[39m\u001b[38;5;124mprior_params_flat\u001b[39m\u001b[38;5;124m'\u001b[39m], free\u001b[38;5;241m=\u001b[39m\u001b[38;5;28;01mFalse\u001b[39;00m)\n",
      "File \u001b[0;32m~/miniforge3/envs/amip-paper-2023/lib/python3.11/site-packages/numpy/lib/npyio.py:251\u001b[0m, in \u001b[0;36mNpzFile.__getitem__\u001b[0;34m(self, key)\u001b[0m\n\u001b[1;32m    249\u001b[0m     key \u001b[38;5;241m+\u001b[39m\u001b[38;5;241m=\u001b[39m \u001b[38;5;124m'\u001b[39m\u001b[38;5;124m.npy\u001b[39m\u001b[38;5;124m'\u001b[39m\n\u001b[1;32m    250\u001b[0m \u001b[38;5;28;01mif\u001b[39;00m member:\n\u001b[0;32m--> 251\u001b[0m     \u001b[38;5;28mbytes\u001b[39m \u001b[38;5;241m=\u001b[39m \u001b[38;5;28;43mself\u001b[39;49m\u001b[38;5;241;43m.\u001b[39;49m\u001b[43mzip\u001b[49m\u001b[38;5;241;43m.\u001b[39;49m\u001b[43mopen\u001b[49m\u001b[43m(\u001b[49m\u001b[43mkey\u001b[49m\u001b[43m)\u001b[49m\n\u001b[1;32m    252\u001b[0m     magic \u001b[38;5;241m=\u001b[39m \u001b[38;5;28mbytes\u001b[39m\u001b[38;5;241m.\u001b[39mread(\u001b[38;5;28mlen\u001b[39m(\u001b[38;5;28mformat\u001b[39m\u001b[38;5;241m.\u001b[39mMAGIC_PREFIX))\n\u001b[1;32m    253\u001b[0m     \u001b[38;5;28mbytes\u001b[39m\u001b[38;5;241m.\u001b[39mclose()\n",
      "File \u001b[0;32m~/miniforge3/envs/amip-paper-2023/lib/python3.11/zipfile.py:1568\u001b[0m, in \u001b[0;36mZipFile.open\u001b[0;34m(self, name, mode, pwd, force_zip64)\u001b[0m\n\u001b[1;32m   1566\u001b[0m fheader \u001b[38;5;241m=\u001b[39m struct\u001b[38;5;241m.\u001b[39munpack(structFileHeader, fheader)\n\u001b[1;32m   1567\u001b[0m \u001b[38;5;28;01mif\u001b[39;00m fheader[_FH_SIGNATURE] \u001b[38;5;241m!=\u001b[39m stringFileHeader:\n\u001b[0;32m-> 1568\u001b[0m     \u001b[38;5;28;01mraise\u001b[39;00m BadZipFile(\u001b[38;5;124m\"\u001b[39m\u001b[38;5;124mBad magic number for file header\u001b[39m\u001b[38;5;124m\"\u001b[39m)\n\u001b[1;32m   1570\u001b[0m fname \u001b[38;5;241m=\u001b[39m zef_file\u001b[38;5;241m.\u001b[39mread(fheader[_FH_FILENAME_LENGTH])\n\u001b[1;32m   1571\u001b[0m \u001b[38;5;28;01mif\u001b[39;00m fheader[_FH_EXTRA_FIELD_LENGTH]:\n",
      "\u001b[0;31mBadZipFile\u001b[0m: Bad magic number for file header"
     ]
    }
   ],
   "source": [
    "base_draws = 30\n",
    "use_smuber = False\n",
    "out_filename = 'output/microcredit_project_advi_{}draws_smuber{}.npz'.format(base_draws, use_smuber)\n",
    "\n",
    "#out_filename = 'output/microcredit_project_advi_{}draws.npz'.format(5)\n",
    "advi_dict = np.load(out_filename)\n",
    "\n",
    "advi_param_pattern = paragami.get_pattern_from_json(str(advi_dict['advi_param_pattern_json']))\n",
    "param_pattern = paragami.get_pattern_from_json(str(advi_dict['param_pattern_json']))\n",
    "advi_param_pattern = paragami.get_pattern_from_json(str(advi_dict['advi_param_pattern_json']))\n",
    "param_pattern = paragami.get_pattern_from_json(str(advi_dict['param_pattern_json']))\n",
    "hess0 = advi_dict['hess0']\n",
    "advi_params_free = advi_dict['advi_params_free']\n",
    "advi_params = advi_param_pattern.fold(advi_params_free, free=True)\n",
    "mean_params = param_pattern.fold(advi_dict['params_free'], free=True)\n",
    "base_draws = advi_dict['base_draws']\n",
    "prior_pattern = paragami.get_pattern_from_json(str(advi_dict['prior_param_pattern_json']))\n",
    "prior_params = prior_pattern.fold(advi_dict['prior_params_flat'], free=False)"
   ]
  },
  {
   "cell_type": "code",
   "execution_count": 3,
   "metadata": {},
   "outputs": [
    {
     "name": "stdout",
     "output_type": "stream",
     "text": [
      "       site      profit  treatment  cat\n",
      "0         1    0.000000          0    2\n",
      "1         1  513.246492          1    3\n",
      "2         1    0.000000          1    2\n",
      "3         1    0.000000          0    2\n",
      "4         1    0.000000          0    2\n",
      "...     ...         ...        ...  ...\n",
      "35298     7  -10.637987          0    1\n",
      "35299     7   87.503514          0    3\n",
      "35300     7   -5.736498          0    1\n",
      "35301     7    0.000000          0    2\n",
      "35302     7   28.722566          0    3\n",
      "\n",
      "[35303 rows x 4 columns]\n",
      "35303\n"
     ]
    }
   ],
   "source": [
    "raw_data = pd.read_csv('../R/data/microcredit_project_data_cleaned.csv') \n",
    "print(raw_data)\n",
    "data = dict()\n",
    "\n",
    "data['site'] = raw_data[\"site\"].to_numpy().astype('int')\n",
    "data['profit'] = raw_data[\"profit\"].to_numpy()\n",
    "data['treatment'] = raw_data[\"treatment\"].to_numpy().astype('int')\n",
    "data['cat'] = raw_data[\"cat\"].to_numpy().astype('int')\n",
    "data['weights'] = None\n",
    "\n",
    "num_obs = len(data['profit'])\n",
    "print(num_obs)\n",
    "\n",
    "data['use_smuber'] = use_smuber"
   ]
  },
  {
   "cell_type": "code",
   "execution_count": 4,
   "metadata": {},
   "outputs": [
    {
     "name": "stdout",
     "output_type": "stream",
     "text": [
      "2.773361238178103e-06\n",
      "2.1844107234763186e-06\n"
     ]
    }
   ],
   "source": [
    "get_log_loss_free = paragami.FlattenFunctionInput(\n",
    "    lambda advi_params: mm_lib.get_advi_loss(\n",
    "        advi_params, base_draws, data, prior_params, param_pattern),\n",
    "    patterns=advi_param_pattern,\n",
    "    free=True)\n",
    "objective = paragami.OptimizationObjective(get_log_loss_free)\n",
    "grad0 = objective.grad(advi_params_free)\n",
    "print(np.linalg.norm(grad0))\n",
    "print(np.linalg.norm(np.linalg.solve(hess0, grad0)))"
   ]
  },
  {
   "cell_type": "code",
   "execution_count": 5,
   "metadata": {},
   "outputs": [],
   "source": [
    "def get_weighted_log_loss(advi_params, weights):\n",
    "    return mm_lib.get_advi_loss(\n",
    "        advi_params, base_draws, data, prior_params, param_pattern, weights)\n",
    "\n",
    "get_weighted_log_loss_free = paragami.FlattenFunctionInput(\n",
    "    get_weighted_log_loss,\n",
    "    patterns=advi_param_pattern,\n",
    "    free=True)\n",
    "\n",
    "estimating_equation = autograd.grad(get_weighted_log_loss, argnum=0)\n",
    "w1 = np.ones(num_obs)\n",
    "\n",
    "# Sanity checks\n",
    "assert \\\n",
    "    get_weighted_log_loss_free(advi_params_free, w1) - \\\n",
    "        get_log_loss_free(advi_params_free) == 0\n",
    "\n",
    "assert \\\n",
    "    get_weighted_log_loss_free(advi_params_free, None) - \\\n",
    "        get_log_loss_free(advi_params_free) == 0"
   ]
  },
  {
   "cell_type": "code",
   "execution_count": 6,
   "metadata": {},
   "outputs": [
    {
     "name": "stdout",
     "output_type": "stream",
     "text": [
      "(35303,)\n"
     ]
    }
   ],
   "source": [
    "# Make sure this is feasible.\n",
    "w_grad = autograd.grad(get_weighted_log_loss_free, argnum=1)(advi_params_free, w1)\n",
    "print(w_grad.shape)"
   ]
  },
  {
   "cell_type": "code",
   "execution_count": 7,
   "metadata": {},
   "outputs": [],
   "source": [
    "get_theta_grad = autograd.grad(get_weighted_log_loss_free, argnum=0)\n",
    "get_cross_hess = autograd.jacobian(get_theta_grad, argnum=1)\n",
    "\n",
    "cross_hess_time = time.time()\n",
    "cross_hess_at_opt = get_cross_hess(advi_params_free, w1)\n",
    "cross_hess_time = time.time() - cross_hess_time"
   ]
  },
  {
   "cell_type": "code",
   "execution_count": 8,
   "metadata": {},
   "outputs": [
    {
     "name": "stdout",
     "output_type": "stream",
     "text": [
      "57.23569583892822\n",
      "(248, 35303)\n"
     ]
    }
   ],
   "source": [
    "print(cross_hess_time)\n",
    "print(cross_hess_at_opt.shape)"
   ]
  },
  {
   "cell_type": "code",
   "execution_count": 9,
   "metadata": {},
   "outputs": [],
   "source": [
    "hess_solver = vittles.solver_lib.get_dense_cholesky_solver(hess0)\n",
    "#hess_solver(grad0)"
   ]
  },
  {
   "cell_type": "code",
   "execution_count": 10,
   "metadata": {},
   "outputs": [],
   "source": [
    "weight_sens_approx = \\\n",
    "    vittles.sensitivity_lib.HyperparameterSensitivityLinearApproximation(\n",
    "        objective_fun=get_weighted_log_loss_free,\n",
    "        opt_par_value=advi_params_free,\n",
    "        hyper_par_value=w1,\n",
    "        validate_optimum=False,\n",
    "        hessian_at_opt=hess0,\n",
    "        cross_hess_at_opt=cross_hess_at_opt)"
   ]
  },
  {
   "cell_type": "code",
   "execution_count": 11,
   "metadata": {},
   "outputs": [],
   "source": [
    "influence_mat = weight_sens_approx.get_dopt_dhyper()"
   ]
  },
  {
   "cell_type": "code",
   "execution_count": 12,
   "metadata": {},
   "outputs": [
    {
     "data": {
      "text/plain": [
       "(248, 35303)"
      ]
     },
     "execution_count": 12,
     "metadata": {},
     "output_type": "execute_result"
    }
   ],
   "source": [
    "influence_mat.shape"
   ]
  },
  {
   "cell_type": "code",
   "execution_count": 13,
   "metadata": {},
   "outputs": [
    {
     "data": {
      "text/plain": [
       "[<matplotlib.lines.Line2D at 0x7ff7425c3e50>]"
      ]
     },
     "execution_count": 13,
     "metadata": {},
     "output_type": "execute_result"
    },
    {
     "data": {
      "image/png": "[encoded data removed]",
      "text/plain": [
       "<Figure size 640x480 with 1 Axes>"
      ]
     },
     "metadata": {},
     "output_type": "display_data"
    }
   ],
   "source": [
    "plt.plot(data['profit'], influence_mat[1, :], '.')"
   ]
  },
  {
   "cell_type": "code",
   "execution_count": 14,
   "metadata": {},
   "outputs": [],
   "source": [
    "#get_advi_mean(advi_params, base_draws, param_pattern)\n",
    "get_advi_mean_free = paragami.FlattenFunctionInput(\n",
    "    mm_lib.get_advi_mean, advi_param_pattern, free=True, argnums=[0])\n",
    "advi_mean_free_jacobian = autograd.jacobian(\n",
    "    get_advi_mean_free, argnum=0)(advi_params_free, base_draws, param_pattern)\n",
    "mean_influence_mat = advi_mean_free_jacobian @ influence_mat"
   ]
  },
  {
   "cell_type": "code",
   "execution_count": 15,
   "metadata": {},
   "outputs": [],
   "source": [
    "lr_cov = advi_mean_free_jacobian @ hess_solver(advi_mean_free_jacobian.T)"
   ]
  },
  {
   "cell_type": "code",
   "execution_count": 16,
   "metadata": {},
   "outputs": [
    {
     "data": {
      "text/plain": [
       "[<matplotlib.lines.Line2D at 0x7ff7425a69d0>]"
      ]
     },
     "execution_count": 16,
     "metadata": {},
     "output_type": "execute_result"
    },
    {
     "data": {
      "image/png": "[encoded data removed]",
      "text/plain": [
       "<Figure size 640x480 with 1 Axes>"
      ]
     },
     "metadata": {},
     "output_type": "display_data"
    }
   ],
   "source": [
    "def get_advi_sd(advi_params, base_draws, param_pattern):\n",
    "    flat_draws = mm_lib.get_flat_draws(advi_params, base_draws, param_pattern)\n",
    "    return np.std(flat_draws, axis=0)\n",
    "\n",
    "advi_sd = get_advi_sd(advi_params, base_draws, param_pattern)\n",
    "lrvb_sd = np.sqrt(np.diag(lr_cov))\n",
    "plt.plot(advi_sd, lrvb_sd, '.')\n",
    "plt.plot(advi_sd, advi_sd, 'r')\n"
   ]
  },
  {
   "cell_type": "code",
   "execution_count": 17,
   "metadata": {},
   "outputs": [
    {
     "data": {
      "text/plain": [
       "(124, 248)"
      ]
     },
     "execution_count": 17,
     "metadata": {},
     "output_type": "execute_result"
    }
   ],
   "source": [
    "advi_mean_free_jacobian.shape"
   ]
  },
  {
   "cell_type": "markdown",
   "metadata": {},
   "source": [
    "# Prior sensitivity"
   ]
  },
  {
   "cell_type": "code",
   "execution_count": 18,
   "metadata": {},
   "outputs": [],
   "source": [
    "def get_prior_log_loss(advi_params, prior_params):\n",
    "    return mm_lib.get_advi_loss(\n",
    "        advi_params, base_draws, data, prior_params, param_pattern, weights=None)\n",
    "\n",
    "get_prior_log_loss_free = paragami.FlattenFunctionInput(\n",
    "    get_prior_log_loss,\n",
    "    patterns=[ advi_param_pattern, prior_pattern ],\n",
    "    free=[True, True],\n",
    "    argnums=[0, 1])\n",
    "\n",
    "estimating_equation = autograd.grad(get_prior_log_loss_free, argnum=0)\n",
    "prior_params_free = prior_pattern.flatten(prior_params, free=True)\n",
    "\n",
    "# Sanity check\n",
    "assert \\\n",
    "    get_prior_log_loss_free(advi_params_free, prior_params_free) - \\\n",
    "        get_log_loss_free(advi_params_free) == 0"
   ]
  },
  {
   "cell_type": "code",
   "execution_count": 19,
   "metadata": {},
   "outputs": [],
   "source": [
    "prior_sens_approx = \\\n",
    "    vittles.sensitivity_lib.HyperparameterSensitivityLinearApproximation(\n",
    "        objective_fun=get_prior_log_loss_free,\n",
    "        opt_par_value=advi_params_free,\n",
    "        hyper_par_value=prior_params_free,\n",
    "        validate_optimum=False,\n",
    "        hessian_at_opt=hess0)"
   ]
  },
  {
   "cell_type": "code",
   "execution_count": 20,
   "metadata": {},
   "outputs": [],
   "source": [
    "prior_influence_mat = prior_sens_approx.get_dopt_dhyper()"
   ]
  },
  {
   "cell_type": "markdown",
   "metadata": {},
   "source": [
    "# Save"
   ]
  },
  {
   "cell_type": "code",
   "execution_count": 21,
   "metadata": {},
   "outputs": [],
   "source": [
    "save_dict = {}\n",
    "save_dict['out_filename'] = out_filename\n",
    "save_dict['cross_hess_time'] = cross_hess_time\n",
    "save_dict['cross_hess_at_opt'] = cross_hess_at_opt\n",
    "save_dict['advi_mean_free_jacobian'] = advi_mean_free_jacobian\n",
    "save_dict['influence_mat'] = influence_mat\n",
    "save_dict['lr_cov'] = lr_cov\n",
    "save_dict['mean_influence_mat'] = mean_influence_mat\n",
    "save_dict['use_smuber'] = data['use_smuber']\n",
    "save_dict['prior_influence_mat'] = prior_influence_mat\n"
   ]
  },
  {
   "cell_type": "code",
   "execution_count": 22,
   "metadata": {},
   "outputs": [
    {
     "name": "stdout",
     "output_type": "stream",
     "text": [
      "Saving to output/microcredit_project_weight_sensitivity_30draws_smuberFalse.npz\n"
     ]
    }
   ],
   "source": [
    "sens_filename = 'output/microcredit_project_weight_sensitivity_{}draws_smuber{}.npz'.format(\n",
    "    base_draws.shape[1], data['use_smuber'])\n",
    "print('Saving to {}'.format(sens_filename))\n",
    "\n",
    "np.savez_compressed(**save_dict, file=sens_filename)"
   ]
  }
 ],
 "metadata": {
  "kernelspec": {
   "display_name": "amip-paper-2023",
   "language": "python",
   "name": "amip-paper-2023"
  },
  "language_info": {
   "codemirror_mode": {
    "name": "ipython",
    "version": 3
   },
   "file_extension": ".py",
   "mimetype": "text/x-python",
   "name": "python",
   "nbconvert_exporter": "python",
   "pygments_lexer": "ipython3",
   "version": "3.11.6"
  }
 },
 "nbformat": 4,
 "nbformat_minor": 4
}
