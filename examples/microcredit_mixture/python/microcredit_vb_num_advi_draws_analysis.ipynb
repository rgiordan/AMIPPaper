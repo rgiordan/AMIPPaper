{
 "cells": [
  {
   "cell_type": "markdown",
   "metadata": {},
   "source": [
    "Before running, follow the installation instructions in the `AdversarialInfluenceWorkbench/examples/microcredit_mixture/README.md` file."
   ]
  },
  {
   "cell_type": "code",
   "execution_count": 1,
   "metadata": {},
   "outputs": [],
   "source": [
    "import paragami\n",
    "import vittles\n",
    "import autograd\n",
    "from autograd import numpy as np\n",
    "from autograd import scipy as sp\n",
    "import matplotlib.pyplot as plt\n",
    "%matplotlib inline\n",
    "import pandas as pd\n",
    "\n",
    "import time\n",
    "import scipy as osp"
   ]
  },
  {
   "cell_type": "code",
   "execution_count": 2,
   "metadata": {},
   "outputs": [],
   "source": [
    "import microcredit_mixture_rgiordandev\n",
    "from microcredit_mixture_rgiordandev import microcredit_vb_lib as mm_lib"
   ]
  },
  {
   "cell_type": "code",
   "execution_count": 3,
   "metadata": {},
   "outputs": [],
   "source": [
    "from microcredit_mixture_rgiordandev import \\\n",
    "    get_log_prob, get_param_pattern, get_log_prob_with_jacobian"
   ]
  },
  {
   "cell_type": "code",
   "execution_count": 4,
   "metadata": {},
   "outputs": [],
   "source": [
    "np.random.seed(42)"
   ]
  },
  {
   "cell_type": "markdown",
   "metadata": {},
   "source": [
    "## Load the data and previous analysis"
   ]
  },
  {
   "cell_type": "code",
   "execution_count": 5,
   "metadata": {},
   "outputs": [],
   "source": [
    "use_smuber = False\n",
    "num_draws = 20"
   ]
  },
  {
   "cell_type": "code",
   "execution_count": 6,
   "metadata": {},
   "outputs": [],
   "source": [
    "raw_data = pd.read_csv('../R/data/microcredit_project_data_cleaned.csv') \n",
    "data = dict()\n",
    "\n",
    "data['site'] = raw_data[\"site\"].to_numpy().astype('int')\n",
    "data['profit'] = raw_data[\"profit\"].to_numpy()\n",
    "data['treatment'] = raw_data[\"treatment\"].to_numpy().astype('int')\n",
    "data['cat'] = raw_data[\"cat\"].to_numpy().astype('int')\n",
    "\n",
    "# If use_smuber is False or unset, then use the log normal loss.\n",
    "data['use_smuber'] = use_smuber"
   ]
  },
  {
   "cell_type": "code",
   "execution_count": 7,
   "metadata": {},
   "outputs": [],
   "source": [
    "out_filename = 'output/microcredit_project_advi_{}draws_smuber{}.npz'.format(num_draws, use_smuber)\n",
    "\n",
    "advi_dict = np.load(out_filename)\n",
    "\n",
    "advi_param_pattern = paragami.get_pattern_from_json(str(advi_dict['advi_param_pattern_json']))\n",
    "param_pattern = paragami.get_pattern_from_json(str(advi_dict['param_pattern_json']))\n",
    "advi_param_pattern = paragami.get_pattern_from_json(str(advi_dict['advi_param_pattern_json']))\n",
    "param_pattern = paragami.get_pattern_from_json(str(advi_dict['param_pattern_json']))\n",
    "hess0 = advi_dict['hess0']\n",
    "advi_params_free = advi_dict['advi_params_free']\n",
    "advi_params = advi_param_pattern.fold(advi_params_free, free=True)\n",
    "#mean_params = param_pattern.fold(advi_dict['params_free'], free=True)\n",
    "base_draws = advi_dict['base_draws']\n",
    "prior_pattern = paragami.get_pattern_from_json(str(advi_dict['prior_param_pattern_json']))\n",
    "prior_params = prior_pattern.fold(advi_dict['prior_params_flat'], free=False)"
   ]
  },
  {
   "cell_type": "code",
   "execution_count": 8,
   "metadata": {},
   "outputs": [],
   "source": [
    "sens_filename = 'output/microcredit_project_weight_sensitivity_{}draws_smuber{}.npz'.format(\n",
    "    num_draws, use_smuber)\n",
    "sens_dict = np.load(sens_filename)\n",
    "lr_cov = sens_dict['lr_cov']\n",
    "advi_mean_free_jacobian = sens_dict['advi_mean_free_jacobian']"
   ]
  },
  {
   "cell_type": "code",
   "execution_count": 9,
   "metadata": {},
   "outputs": [
    {
     "data": {
      "text/plain": [
       "35733.613593279995"
      ]
     },
     "execution_count": 9,
     "metadata": {},
     "output_type": "execute_result"
    }
   ],
   "source": [
    "mm_lib.get_advi_loss(advi_params, base_draws, data, prior_params, param_pattern)"
   ]
  },
  {
   "cell_type": "code",
   "execution_count": 10,
   "metadata": {},
   "outputs": [
    {
     "data": {
      "text/plain": [
       "(124, 20)"
      ]
     },
     "execution_count": 10,
     "metadata": {},
     "output_type": "execute_result"
    }
   ],
   "source": [
    "base_draws.shape"
   ]
  },
  {
   "cell_type": "code",
   "execution_count": 11,
   "metadata": {},
   "outputs": [],
   "source": [
    "# Estimate the score covariance.\n",
    "use_base_draws_for_cov = True\n",
    "if use_base_draws_for_cov:\n",
    "    score_cov_draws = base_draws\n",
    "else:\n",
    "    score_cov_draws = mm_lib.get_base_draws(100, param_pattern)\n",
    "\n",
    "# Recall that each column of the base draws is a MVN draw.\n",
    "objective_grads = []\n",
    "for d in range(score_cov_draws.shape[1]):\n",
    "    single_draw = score_cov_draws[:, d]\n",
    "    single_draw = single_draw[:, None]\n",
    "    objective = mm_lib.get_advi_objective(\n",
    "        single_draw, data, prior_params, advi_param_pattern, param_pattern)\n",
    "    objective_grads.append(objective.grad(advi_params_free))\n",
    "\n",
    "objective_grads = np.array(objective_grads)"
   ]
  },
  {
   "cell_type": "code",
   "execution_count": 12,
   "metadata": {},
   "outputs": [
    {
     "data": {
      "image/png": "[encoded data removed]",
      "text/plain": [
       "<Figure size 432x288 with 1 Axes>"
      ]
     },
     "metadata": {
      "needs_background": "light"
     },
     "output_type": "display_data"
    }
   ],
   "source": [
    "# The mean score is not necessarily close to zero with draws other than base_draws,\n",
    "# though you would hope it would be.\n",
    "plt.hist(np.mean(objective_grads, axis=0), 100);"
   ]
  },
  {
   "cell_type": "code",
   "execution_count": 13,
   "metadata": {},
   "outputs": [],
   "source": [
    "# The means should be close to zero because of optimization, but let's do it carefully.\n",
    "score_centered = objective_grads - np.mean(objective_grads, axis=0, keepdims=True)\n",
    "score_cov = score_centered.T @ score_centered / score_cov_draws.shape[1]\n",
    "\n",
    "# This is the estimate of the frequentist variance of the optimal ADVI parameters\n",
    "# under samples of base_draws.\n",
    "advi_param_cov = np.linalg.solve(hess0, np.linalg.solve(hess0, score_cov).T) / num_draws\n",
    "\n",
    "# This is the delta method estimate of the frequentist variance of the VB mean parameters\n",
    "# under samples of base_draws.\n",
    "advi_mean_freq_cov = advi_mean_free_jacobian @ advi_param_cov @ advi_mean_free_jacobian.T"
   ]
  },
  {
   "cell_type": "code",
   "execution_count": 14,
   "metadata": {},
   "outputs": [],
   "source": [
    "# Compare the frequentist standard errors to the LR posterior standard deviation. \n",
    "advi_mean_freq_sd = np.sqrt(np.diag(advi_mean_freq_cov))\n",
    "rel_error_flat = advi_mean_freq_sd / np.sqrt(np.diag(lr_cov))\n",
    "rel_error = param_pattern.fold(rel_error_flat, free=False)"
   ]
  },
  {
   "cell_type": "code",
   "execution_count": 17,
   "metadata": {},
   "outputs": [],
   "source": [
    "save_dict = {}\n",
    "save_dict['out_filename'] = out_filename\n",
    "save_dict['sens_filename'] = sens_filename\n",
    "save_dict['base_draws'] = base_draws\n",
    "save_dict['use_smuber'] = use_smuber\n",
    "\n",
    "save_dict['use_base_draws_for_cov'] = use_base_draws_for_cov\n",
    "save_dict['objective_grads'] = objective_grads\n",
    "save_dict['advi_param_cov'] = advi_param_cov\n",
    "save_dict['advi_param_cov'] = advi_param_cov\n",
    "save_dict['rel_error_flat'] = rel_error_flat\n",
    "save_dict['param_pattern_json'] = param_pattern.to_json()"
   ]
  },
  {
   "cell_type": "code",
   "execution_count": 18,
   "metadata": {},
   "outputs": [
    {
     "name": "stdout",
     "output_type": "stream",
     "text": [
      "Saving to output/microcredit_project_advi_frequentist_num_draw_check_20draws_smuberFalse.npz\n"
     ]
    }
   ],
   "source": [
    "freq_filename = 'output/microcredit_project_advi_frequentist_num_draw_check_{}draws_smuber{}.npz'.format(\n",
    "    base_draws.shape[1], data['use_smuber'])\n",
    "print('Saving to {}'.format(freq_filename))\n",
    "\n",
    "np.savez_compressed(**save_dict, file=freq_filename)"
   ]
  }
 ],
 "metadata": {
  "kernelspec": {
   "display_name": "microcredit_mixture_rgiordandev",
   "language": "python",
   "name": "microcredit_mixture_rgiordandev"
  },
  "language_info": {
   "codemirror_mode": {
    "name": "ipython",
    "version": 3
   },
   "file_extension": ".py",
   "mimetype": "text/x-python",
   "name": "python",
   "nbconvert_exporter": "python",
   "pygments_lexer": "ipython3",
   "version": "3.6.9"
  }
 },
 "nbformat": 4,
 "nbformat_minor": 4
}
