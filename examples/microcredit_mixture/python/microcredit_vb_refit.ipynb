{
 "cells": [
  {
   "cell_type": "markdown",
   "metadata": {},
   "source": [
    "You probably want to just use ``refit.py`` instead of this workbench script.\n",
    "\n",
    "Before running, follow the installation instructions in the `AdversarialInfluenceWorkbench/examples/microcredit_mixture/README.md` file."
   ]
  },
  {
   "cell_type": "code",
   "execution_count": 1,
   "metadata": {},
   "outputs": [],
   "source": [
    "import paragami\n",
    "import vittles\n",
    "import autograd\n",
    "from autograd import numpy as np\n",
    "#from autograd import scipy as sp\n",
    "import scipy as sp\n",
    "import matplotlib.pyplot as plt\n",
    "%matplotlib inline\n",
    "import pandas as pd\n",
    "from copy import deepcopy\n",
    "import os\n",
    "\n",
    "import time\n",
    "import scipy as osp"
   ]
  },
  {
   "cell_type": "code",
   "execution_count": 2,
   "metadata": {},
   "outputs": [],
   "source": [
    "import microcredit_mixture_rgiordandev\n",
    "from microcredit_mixture_rgiordandev import microcredit_vb_lib as mm_lib"
   ]
  },
  {
   "cell_type": "code",
   "execution_count": 3,
   "metadata": {},
   "outputs": [],
   "source": [
    "from microcredit_mixture_rgiordandev import \\\n",
    "    get_log_prob, get_param_pattern, get_log_prob_with_jacobian"
   ]
  },
  {
   "cell_type": "code",
   "execution_count": 4,
   "metadata": {},
   "outputs": [],
   "source": [
    "base_dir = os.path.join(\n",
    "    '/home/rgiordan/Documents/git_repos/',\n",
    "    'AdversarialInfluenceWorkbench/examples/microcredit_mixture/')\n",
    "\n",
    "use_smuber = False\n",
    "num_draws = 30"
   ]
  },
  {
   "cell_type": "code",
   "execution_count": 5,
   "metadata": {},
   "outputs": [
    {
     "name": "stdout",
     "output_type": "stream",
     "text": [
      "       site      profit  treatment  cat\n",
      "0         1    0.000000          0    2\n",
      "1         1  513.246492          1    3\n",
      "2         1    0.000000          1    2\n",
      "3         1    0.000000          0    2\n",
      "4         1    0.000000          0    2\n",
      "...     ...         ...        ...  ...\n",
      "35298     7  -10.637987          0    1\n",
      "35299     7   87.503514          0    3\n",
      "35300     7   -5.736498          0    1\n",
      "35301     7    0.000000          0    2\n",
      "35302     7   28.722566          0    3\n",
      "\n",
      "[35303 rows x 4 columns]\n"
     ]
    }
   ],
   "source": [
    "raw_data = pd.read_csv('../R/data/microcredit_project_data_cleaned.csv') \n",
    "print(raw_data)\n",
    "data = dict()\n",
    "\n",
    "data['site'] = raw_data[\"site\"].to_numpy().astype('int')\n",
    "data['profit'] = raw_data[\"profit\"].to_numpy()\n",
    "data['treatment'] = raw_data[\"treatment\"].to_numpy().astype('int')\n",
    "data['cat'] = raw_data[\"cat\"].to_numpy().astype('int')\n",
    "\n",
    "n_obs = len(data['profit'])"
   ]
  },
  {
   "cell_type": "code",
   "execution_count": 6,
   "metadata": {},
   "outputs": [],
   "source": [
    "initial_fit_filename = \\\n",
    "    ('{base_dir}/python/output/' +\n",
    "     'microcredit_project_advi_{num_draws}draws_smuber{use_smuber}.npz').format(\n",
    "        base_dir=base_dir, num_draws=num_draws, use_smuber=use_smuber)\n",
    "\n",
    "advi_dict = np.load(initial_fit_filename)\n",
    "\n",
    "advi_param_pattern = paragami.get_pattern_from_json(\n",
    "    str(advi_dict['advi_param_pattern_json']))\n",
    "param_pattern = paragami.get_pattern_from_json(\n",
    "    str(advi_dict['param_pattern_json']))\n",
    "hess0 = advi_dict['hess0']\n",
    "advi_params_free = advi_dict['advi_params_free']\n",
    "advi_params = advi_param_pattern.fold(advi_params_free, free=True)\n",
    "base_draws = advi_dict['base_draws']\n",
    "prior_param_pattern = paragami.get_pattern_from_json(\n",
    "    str(advi_dict['prior_param_pattern_json']))\n",
    "prior_params = prior_param_pattern.fold(\n",
    "    advi_dict['prior_params_flat'], free=False)"
   ]
  },
  {
   "cell_type": "code",
   "execution_count": 7,
   "metadata": {},
   "outputs": [
    {
     "ename": "FileNotFoundError",
     "evalue": "[Errno 2] No such file or directory: '/home/rgiordan/Documents/git_repos/AdversarialInfluenceWorkbench/examples/microcredit_mixture//python/reweightings/amis_weight_tau[0]_sign_smuberFalse.npz'",
     "output_type": "error",
     "traceback": [
      "\u001b[0;31m---------------------------------------------------------------------------\u001b[0m",
      "\u001b[0;31mFileNotFoundError\u001b[0m                         Traceback (most recent call last)",
      "Cell \u001b[0;32mIn[7], line 10\u001b[0m\n\u001b[1;32m      4\u001b[0m \u001b[38;5;66;03m#change = 'sign and significance'\u001b[39;00m\n\u001b[1;32m      5\u001b[0m reweight_filename \u001b[38;5;241m=\u001b[39m \\\n\u001b[1;32m      6\u001b[0m     (\u001b[38;5;124m'\u001b[39m\u001b[38;5;132;01m{base_dir}\u001b[39;00m\u001b[38;5;124m/python/reweightings/amis_weight_\u001b[39m\u001b[38;5;124m'\u001b[39m \u001b[38;5;241m+\u001b[39m\n\u001b[1;32m      7\u001b[0m      \u001b[38;5;124m'\u001b[39m\u001b[38;5;132;01m{param_name}\u001b[39;00m\u001b[38;5;124m_\u001b[39m\u001b[38;5;132;01m{change}\u001b[39;00m\u001b[38;5;124m_smuber\u001b[39m\u001b[38;5;132;01m{use_smuber}\u001b[39;00m\u001b[38;5;124m.npz\u001b[39m\u001b[38;5;124m'\u001b[39m)\u001b[38;5;241m.\u001b[39mformat(\n\u001b[1;32m      8\u001b[0m         base_dir\u001b[38;5;241m=\u001b[39mbase_dir, param_name\u001b[38;5;241m=\u001b[39mparam_name, change\u001b[38;5;241m=\u001b[39mchange,\n\u001b[1;32m      9\u001b[0m         use_smuber\u001b[38;5;241m=\u001b[39muse_smuber)\n\u001b[0;32m---> 10\u001b[0m reweight_dict \u001b[38;5;241m=\u001b[39m \u001b[43mnp\u001b[49m\u001b[38;5;241;43m.\u001b[39;49m\u001b[43mload\u001b[49m\u001b[43m(\u001b[49m\u001b[43mreweight_filename\u001b[49m\u001b[43m)\u001b[49m\n\u001b[1;32m     11\u001b[0m weights \u001b[38;5;241m=\u001b[39m reweight_dict[\u001b[38;5;124m'\u001b[39m\u001b[38;5;124mweights\u001b[39m\u001b[38;5;124m'\u001b[39m]\n\u001b[1;32m     12\u001b[0m \u001b[38;5;28mprint\u001b[39m(np\u001b[38;5;241m.\u001b[39msum(\u001b[38;5;241m1\u001b[39m \u001b[38;5;241m-\u001b[39m weights))\n",
      "File \u001b[0;32m~/miniforge3/envs/amip-paper-2023/lib/python3.11/site-packages/autograd/tracer.py:48\u001b[0m, in \u001b[0;36mprimitive.<locals>.f_wrapped\u001b[0;34m(*args, **kwargs)\u001b[0m\n\u001b[1;32m     46\u001b[0m     \u001b[38;5;28;01mreturn\u001b[39;00m new_box(ans, trace, node)\n\u001b[1;32m     47\u001b[0m \u001b[38;5;28;01melse\u001b[39;00m:\n\u001b[0;32m---> 48\u001b[0m     \u001b[38;5;28;01mreturn\u001b[39;00m \u001b[43mf_raw\u001b[49m\u001b[43m(\u001b[49m\u001b[38;5;241;43m*\u001b[39;49m\u001b[43margs\u001b[49m\u001b[43m,\u001b[49m\u001b[43m \u001b[49m\u001b[38;5;241;43m*\u001b[39;49m\u001b[38;5;241;43m*\u001b[39;49m\u001b[43mkwargs\u001b[49m\u001b[43m)\u001b[49m\n",
      "File \u001b[0;32m~/miniforge3/envs/amip-paper-2023/lib/python3.11/site-packages/numpy/lib/npyio.py:427\u001b[0m, in \u001b[0;36mload\u001b[0;34m(file, mmap_mode, allow_pickle, fix_imports, encoding, max_header_size)\u001b[0m\n\u001b[1;32m    425\u001b[0m     own_fid \u001b[38;5;241m=\u001b[39m \u001b[38;5;28;01mFalse\u001b[39;00m\n\u001b[1;32m    426\u001b[0m \u001b[38;5;28;01melse\u001b[39;00m:\n\u001b[0;32m--> 427\u001b[0m     fid \u001b[38;5;241m=\u001b[39m stack\u001b[38;5;241m.\u001b[39menter_context(\u001b[38;5;28;43mopen\u001b[39;49m\u001b[43m(\u001b[49m\u001b[43mos_fspath\u001b[49m\u001b[43m(\u001b[49m\u001b[43mfile\u001b[49m\u001b[43m)\u001b[49m\u001b[43m,\u001b[49m\u001b[43m \u001b[49m\u001b[38;5;124;43m\"\u001b[39;49m\u001b[38;5;124;43mrb\u001b[39;49m\u001b[38;5;124;43m\"\u001b[39;49m\u001b[43m)\u001b[49m)\n\u001b[1;32m    428\u001b[0m     own_fid \u001b[38;5;241m=\u001b[39m \u001b[38;5;28;01mTrue\u001b[39;00m\n\u001b[1;32m    430\u001b[0m \u001b[38;5;66;03m# Code to distinguish from NumPy binary files and pickles.\u001b[39;00m\n",
      "\u001b[0;31mFileNotFoundError\u001b[0m: [Errno 2] No such file or directory: '/home/rgiordan/Documents/git_repos/AdversarialInfluenceWorkbench/examples/microcredit_mixture//python/reweightings/amis_weight_tau[0]_sign_smuberFalse.npz'"
     ]
    }
   ],
   "source": [
    "param_name = 'tau[0]'\n",
    "change = 'sign'\n",
    "\n",
    "#change = 'sign and significance'\n",
    "reweight_filename = \\\n",
    "    ('{base_dir}/python/reweightings/amis_weight_' +\n",
    "     '{param_name}_{change}_smuber{use_smuber}.npz').format(\n",
    "        base_dir=base_dir, param_name=param_name, change=change,\n",
    "        use_smuber=use_smuber)\n",
    "reweight_dict = np.load(reweight_filename)\n",
    "weights = reweight_dict['weights']\n",
    "print(np.sum(1 - weights))"
   ]
  },
  {
   "cell_type": "code",
   "execution_count": null,
   "metadata": {},
   "outputs": [],
   "source": [
    "# Define objective\n",
    "get_log_loss_free = paragami.FlattenFunctionInput(\n",
    "    lambda advi_params: \\\n",
    "        mm_lib.get_advi_loss(advi_params, base_draws, data,\n",
    "                             prior_params, param_pattern, weights),\n",
    "    patterns=advi_param_pattern,\n",
    "    free=True)\n",
    "\n",
    "advi_loss_precond = paragami.PreconditionedFunction(get_log_loss_free)\n",
    "advi_loss_precond.set_preconditioner_with_hessian(hessian=hess0)\n",
    "objective_precond = paragami.OptimizationObjective(advi_loss_precond)\n",
    "init_x = advi_loss_precond.precondition(advi_params_free)\n"
   ]
  },
  {
   "cell_type": "code",
   "execution_count": null,
   "metadata": {},
   "outputs": [],
   "source": [
    "# Optimize\n",
    "print('Optimizing!  -ㅅ-')\n",
    "opt_time = time.time()\n",
    "objective_precond.reset()\n",
    "objective_precond.set_log_every(1)\n",
    "opt_result = sp.optimize.minimize(\n",
    "    method='trust-ncg',\n",
    "    x0=init_x,\n",
    "    fun=objective_precond.f,\n",
    "    jac=objective_precond.grad,\n",
    "    hessp=objective_precond.hessian_vector_product,\n",
    "    options={'maxiter': 500})\n",
    "opt_time = time.time() - opt_time"
   ]
  },
  {
   "cell_type": "code",
   "execution_count": null,
   "metadata": {},
   "outputs": [],
   "source": [
    "print(opt_result.message)\n",
    "print('Optimized!  ^-^')\n",
    "print('Optimization took {} seconds'.format(opt_time))\n",
    "\n",
    "advi_params_refit = advi_param_pattern.fold(\n",
    "    advi_loss_precond.unprecondition(opt_result.x), free=True)\n",
    "advi_params_refit_free = advi_param_pattern.flatten(advi_params_refit, free=True)\n",
    "\n",
    "params_opt_refit = param_pattern.fold(advi_params['mean'], free=True)"
   ]
  },
  {
   "cell_type": "code",
   "execution_count": null,
   "metadata": {},
   "outputs": [],
   "source": [
    "# Get the LR covariance\n",
    "print('Computing Hessian')\n",
    "objective = mm_lib.get_advi_objective(\n",
    "    base_draws, data, prior_params, advi_param_pattern, param_pattern,\n",
    "    weights=weights)\n",
    "\n",
    "hess_time = time.time()\n",
    "hess1 = objective.hessian(advi_params_refit_free)\n",
    "hess_time = time.time() - hess_time\n",
    "evs = np.linalg.eigvals(hess1)"
   ]
  },
  {
   "cell_type": "code",
   "execution_count": null,
   "metadata": {},
   "outputs": [],
   "source": [
    "print(hess_time)\n",
    "print(np.max(evs), np.min(evs), np.max(evs) / np.min(evs))"
   ]
  },
  {
   "cell_type": "code",
   "execution_count": null,
   "metadata": {},
   "outputs": [],
   "source": [
    "print('Computing LR covariance')\n",
    "hess_solver = vittles.solver_lib.get_dense_cholesky_solver(hess1)\n",
    "\n",
    "get_advi_mean_free = paragami.FlattenFunctionInput(\n",
    "    mm_lib.get_advi_mean, advi_param_pattern, free=True, argnums=[0])\n",
    "advi_mean_free_jacobian = autograd.jacobian(\n",
    "    get_advi_mean_free, argnum=0)(advi_params_refit_free, base_draws, param_pattern)\n",
    "lr_cov = advi_mean_free_jacobian @ hess_solver(advi_mean_free_jacobian.T)"
   ]
  }
 ],
 "metadata": {
  "kernelspec": {
   "display_name": "amip-paper-2023",
   "language": "python",
   "name": "amip-paper-2023"
  },
  "language_info": {
   "codemirror_mode": {
    "name": "ipython",
    "version": 3
   },
   "file_extension": ".py",
   "mimetype": "text/x-python",
   "name": "python",
   "nbconvert_exporter": "python",
   "pygments_lexer": "ipython3",
   "version": "3.11.6"
  }
 },
 "nbformat": 4,
 "nbformat_minor": 4
}
